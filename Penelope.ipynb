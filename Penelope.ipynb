{
 "metadata": {
  "language_info": {
   "codemirror_mode": {
    "name": "ipython",
    "version": 3
   },
   "file_extension": ".py",
   "mimetype": "text/x-python",
   "name": "python",
   "nbconvert_exporter": "python",
   "pygments_lexer": "ipython3",
   "version": "3.8.6-final"
  },
  "orig_nbformat": 2,
  "kernelspec": {
   "name": "python3",
   "display_name": "Python 3.8.6 64-bit",
   "metadata": {
    "interpreter": {
     "hash": "aee8b7b246df8f9039afb4144a1f6fd8d2ca17a180786b69acc140d282b71a49"
    }
   }
  }
 },
 "nbformat": 4,
 "nbformat_minor": 2,
 "cells": [
  {
   "cell_type": "code",
   "execution_count": 45,
   "metadata": {},
   "outputs": [
    {
     "output_type": "stream",
     "name": "stdout",
     "text": [
      "2.4.0\n",
      "[nltk_data] Downloading package punkt to /Users/seanlyons/nltk_data...\n",
      "[nltk_data]   Package punkt is already up-to-date!\n"
     ]
    },
    {
     "output_type": "execute_result",
     "data": {
      "text/plain": [
       "True"
      ]
     },
     "metadata": {},
     "execution_count": 45
    }
   ],
   "source": [
    "import tensorflow as tf\n",
    "from nltk.tokenize import word_tokenize\n",
    "from tensorflow.keras.preprocessing.text import Tokenizer\n",
    "from tensorflow.keras.preprocessing.sequence import pad_sequences\n",
    "from tensorflow.keras.models import Sequential\n",
    "from tensorflow.keras import layers\n",
    "from tensorflow.keras.layers import Dense\n",
    "import nltk\n",
    "from nltk.tokenize import sent_tokenize\n",
    "import numpy as np\n",
    "import random\n",
    "import re\n",
    "import os\n",
    "print(tf.__version__)\n",
    "nltk.download('punkt')"
   ]
  },
  {
   "cell_type": "code",
   "execution_count": 46,
   "metadata": {},
   "outputs": [],
   "source": [
    "fpath=os.path.join('/Users/seanlyons/Downloads/Ulyses/')"
   ]
  },
  {
   "cell_type": "code",
   "execution_count": 47,
   "metadata": {},
   "outputs": [],
   "source": [
    "from tensorflow import keras\n",
    "model = keras.models.load_model(fpath+'Ulysses.h5')"
   ]
  },
  {
   "cell_type": "code",
   "execution_count": 48,
   "metadata": {},
   "outputs": [],
   "source": [
    "corpus = open(fpath + '/Training.txt',  'rb').read().lower().decode(encoding='utf-8')\n",
    "corpus = re.sub('\\n', ' ', corpus)\n",
    "corpus = re.sub('\\r', ' ', corpus)"
   ]
  },
  {
   "cell_type": "code",
   "execution_count": 49,
   "metadata": {},
   "outputs": [
    {
     "output_type": "stream",
     "name": "stdout",
     "text": [
      "The number of sentences is 23804\n"
     ]
    }
   ],
   "source": [
    "sentences = nltk.sent_tokenize(corpus)\n",
    "print(\"The number of sentences is {}\".format(len(sentences)))\n",
    "sentencelength=len(sentences)"
   ]
  },
  {
   "cell_type": "code",
   "execution_count": 50,
   "metadata": {},
   "outputs": [
    {
     "output_type": "stream",
     "name": "stdout",
     "text": [
      "The longest sentence has 664 words\n"
     ]
    }
   ],
   "source": [
    "word_count = lambda sentence: len(word_tokenize(sentence))\n",
    "longest_sentence = max(sentences, key=word_count)\n",
    "length_longest_sentence = len(word_tokenize(longest_sentence))\n",
    "print(\"The longest sentence has {} words\".format(length_longest_sentence))"
   ]
  },
  {
   "cell_type": "code",
   "execution_count": 51,
   "metadata": {
    "tags": []
   },
   "outputs": [],
   "source": [
    "word_list = corpus.split()\n",
    "reversed_list = word_list[:: -1]\n",
    "reversecorpus = \" \".join(reversed_list)"
   ]
  },
  {
   "cell_type": "code",
   "execution_count": 52,
   "metadata": {},
   "outputs": [
    {
     "output_type": "stream",
     "name": "stdout",
     "text": [
      "The number of sentences is 23804\n"
     ]
    }
   ],
   "source": [
    "revsentences = nltk.sent_tokenize(reversecorpus)\n",
    "print(\"The number of sentences is {}\".format(len(sentences)))\n",
    "sentencelength=len(revsentences)"
   ]
  },
  {
   "cell_type": "code",
   "execution_count": 53,
   "metadata": {},
   "outputs": [
    {
     "output_type": "stream",
     "name": "stdout",
     "text": [
      "The longest sentence has 664 words\n"
     ]
    }
   ],
   "source": [
    "longest_revsentence = max(revsentences, key=word_count)\n",
    "length_longest_revsentence = len(word_tokenize(longest_revsentence))\n",
    "print(\"The longest sentence has {} words\".format(length_longest_revsentence))"
   ]
  },
  {
   "cell_type": "code",
   "execution_count": 32,
   "metadata": {},
   "outputs": [
    {
     "output_type": "stream",
     "name": "stdout",
     "text": [
      "not to inherit by right of primogeniture, gavelkind or borough english,  or possess in perpetuity an extensive demesne of a sufficient number of  acres, roods and perches, statute land measure (valuation £ 42), of  grazing turbary surrounding a baronial hall with gatelodge and carriage  drive nor, on the other hand, a terracehouse or semidetached villa,  described as rus in urbe or c, but to purchase by private  treaty in fee simple a thatched bungalowshaped 2 storey dwellinghouse  of southerly aspect, surmounted by vane and lightning conductor,  connected with the earth, with porch covered by parasitic plants (ivy  or virginia creeper), halldoor, olive green, with smart carriage finish  and neat doorbrasses, stucco front with gilt tracery at eaves and  gable, rising, if possible, upon a gentle eminence with agreeable  prospect from balcony with stone pillar parapet over unoccupied and  unoccupyable interjacent pastures and standing in 5 or 6 acres of its  own ground, at such a distance from the nearest public thoroughfare as  to render its houselights visible at night above and through a quickset  hornbeam hedge of topiary cutting, situate at a given point not less  than 1 statute mile from the periphery of the metropolis, within a time  limit of not more than 15 minutes from tram or train line (e.g.,  dundrum, south, or sutton, north, both localities equally reported by  trial to resemble the terrestrial poles in being favourable climates  for phthisical subjects), the premises to be held under feefarm grant,  lease 999 years, the messuage to consist of 1 drawingroom with  baywindow (2 lancets), thermometer affixed, 1 sittingroom, 4 bedrooms,  2 servants’ rooms, tiled kitchen with close range and scullery, lounge  hall fitted with linen wallpresses, fumed oak sectional bookcase  containing the encyclopaedia britannica and new century dictionary,  transverse obsolete medieval and oriental weapons, dinner gong,  alabaster lamp, bowl pendant, vulcanite automatic telephone receiver  with adjacent directory, handtufted axminster carpet with cream ground  and trellis border, loo table with pillar and claw legs, hearth with  massive firebrasses and ormolu mantel chronometer clock, guaranteed  timekeeper with cathedral chime, barometer with hygrographic chart,  comfortable lounge settees and corner fitments, upholstered in ruby  plush with good springing and sunk centre, three banner japanese screen  and cuspidors (club style, rich winecoloured leather, gloss renewable  with a minimum of labour by use of linseed oil and vinegar) and  pyramidically prismatic central chandelier lustre, bentwood perch with  fingertame parrot (expurgated language), embossed mural paper at 10/  per dozen with transverse swags of carmine floral design and top crown  frieze, staircase, three continuous flights at successive right angles,  of varnished cleargrained oak, treads and risers, newel, balusters and  handrail, with steppedup panel dado, dressed with camphorated wax:  bathroom, hot and cold supply, reclining and shower: water closet on  mezzanine provided with opaque singlepane oblong window, tipup seat,  bracket lamp, brass tierod and brace, armrests, footstool and artistic  oleograph on inner face of door: ditto, plain: servants’ apartments  with separate sanitary and hygienic necessaries for cook, general and  betweenmaid (salary, rising by biennial unearned increments of £ 2,  with comprehensive fidelity insurance, annual bonus (£ 1) and retiring  allowance (based on the 65 system) after 30 years’ service), pantry,  buttery, larder, refrigerator, outoffices, coal and wood cellarage with  winebin (still and sparkling vintages) for distinguished guests, if  entertained to dinner (evening dress), carbon monoxide gas supply  throughout.\nsupply gas monoxide carbon dress), (evening dinner to entertained if guests, distinguished for vintages) sparkling and (still winebin with cellarage wood and coal outoffices, refrigerator, larder, buttery, pantry, service), years’ 30 after system) 65 the on (based allowance retiring and 1) (£ bonus annual insurance, fidelity comprehensive with 2, £ of increments unearned biennial by rising (salary, betweenmaid and general cook, for necessaries hygienic and sanitary separate with apartments servants’ plain: ditto, door: of face inner on oleograph artistic and footstool armrests, brace, and tierod brass lamp, bracket seat, tipup window, oblong singlepane opaque with provided mezzanine on closet water shower: and reclining supply, cold and hot bathroom, wax: camphorated with dressed dado, panel steppedup with handrail, and balusters newel, risers, and treads oak, cleargrained varnished of angles, right successive at flights continuous three staircase, frieze, crown top and design floral carmine of swags transverse with dozen per 10/ at paper mural embossed language), (expurgated parrot fingertame with perch bentwood lustre, chandelier central prismatic pyramidically and vinegar) and oil linseed of use by labour of minimum a with renewable gloss leather, winecoloured rich style, (club cuspidors and screen japanese banner three centre, sunk and springing good with plush ruby in upholstered fitments, corner and settees lounge comfortable chart, hygrographic with barometer chime, cathedral with timekeeper guaranteed clock, chronometer mantel ormolu and firebrasses massive with hearth legs, claw and pillar with table loo border, trellis and ground cream with carpet axminster handtufted directory, adjacent with receiver telephone automatic vulcanite pendant, bowl lamp, alabaster gong, dinner weapons, oriental and medieval obsolete transverse dictionary, century new and britannica encyclopaedia the containing bookcase sectional oak fumed wallpresses, linen with fitted hall lounge scullery, and range close with kitchen tiled rooms, servants’ 2 bedrooms, 4 sittingroom, 1 affixed, thermometer lancets), (2 baywindow with drawingroom 1 of consist to messuage the years, 999 lease grant, feefarm under held be to premises the subjects), phthisical for climates favourable being in poles terrestrial the resemble to trial by reported equally localities both north, sutton, or south, dundrum, (e.g., line train or tram from minutes 15 than more not of limit time a within metropolis, the of periphery the from mile statute 1 than less not point given a at situate cutting, topiary of hedge hornbeam quickset a through and above night at visible houselights its render to as thoroughfare public nearest the from distance a such at ground, own its of acres 6 or 5 in standing and pastures interjacent unoccupyable and unoccupied over parapet pillar stone with balcony from prospect agreeable with eminence gentle a upon possible, if rising, gable, and eaves at tracery gilt with front stucco doorbrasses, neat and finish carriage smart with green, olive halldoor, creeper), virginia or (ivy plants parasitic by covered porch with earth, the with connected conductor, lightning and vane by surmounted aspect, southerly of dwellinghouse storey 2 bungalowshaped thatched a simple fee in treaty private by purchase to but c, or urbe in rus as described villa, semidetached or terracehouse a hand, other the on nor, drive carriage and gatelodge with hall baronial a surrounding turbary grazing of 42), £ (valuation measure land statute perches, and roods acres, of number sufficient a of demesne extensive an perpetuity in possess or english, borough or gavelkind primogeniture, of right by inherit to not coalesced?\n"
     ]
    }
   ],
   "source": [
    "print(longest_sentence)\n",
    "print(longest_revsentence)"
   ]
  },
  {
   "cell_type": "code",
   "execution_count": 54,
   "metadata": {},
   "outputs": [],
   "source": [
    "data=[]\n",
    "labels=[]\n",
    "for i in sentences:\n",
    "  data.append(i)\n",
    "  labels.append(1)\n",
    "for j in revsentences:\n",
    "  data.append(j)\n",
    "  labels.append(0)"
   ]
  },
  {
   "cell_type": "code",
   "execution_count": 55,
   "metadata": {},
   "outputs": [
    {
     "output_type": "stream",
     "name": "stdout",
     "text": [
      "his of wings the tightening eaters, tabled and stooled the round gazed he this.\n0\nback to barracks!\n1\n"
     ]
    }
   ],
   "source": [
    "training_sentences = np.array(data)\n",
    "training_labels = np.array(labels)\n",
    "print(training_sentences[40000])\n",
    "print(training_labels[40000])\n",
    "print(training_sentences[10])\n",
    "print(training_labels[10])"
   ]
  },
  {
   "cell_type": "code",
   "execution_count": 56,
   "metadata": {},
   "outputs": [],
   "source": [
    "x = training_sentences\n",
    "y = training_labels\n",
    "temp = list(zip(x, y))\n",
    "random.shuffle(temp)\n",
    "x, y = zip(*temp)"
   ]
  },
  {
   "cell_type": "code",
   "execution_count": 57,
   "metadata": {},
   "outputs": [
    {
     "output_type": "stream",
     "name": "stdout",
     "text": [
      "damn it.\n1\nthe lord has spoken to malachi.\n1\n(47613,)\n(47613,)\n"
     ]
    }
   ],
   "source": [
    "x=np.array(x)\n",
    "y=np.array(y)\n",
    "print(x[88])\n",
    "print(y[88])\n",
    "print(x[17])\n",
    "print(y[17])\n",
    "print(x.shape)\n",
    "print(y.shape)"
   ]
  },
  {
   "cell_type": "code",
   "execution_count": 16,
   "metadata": {},
   "outputs": [
    {
     "output_type": "stream",
     "name": "stdout",
     "text": [
      "[  0   0   0   0   0   0   0   0   0   0   0   0   0   0   0   0   0   0\n   0   0   0   0   0   0   0   0   0   0   0   0   0   0   0   0   0   0\n   0   0   0   0   0   0   0   0   0   0   0   0   0   0   0   0   0   0\n   0   0   0   0   0   0   0   0   0   0   0   0   0   0   0   0   0   0\n   0   0   0   0   0   0   0   0   0   0   0   0   0   0   0   0   0   0\n   0   0   0   0   0   0   0   0   0   0   0   0   0   0   0   0   0   0\n   0   0   0   0   0   0   0   0   0   0   0   0   0   0   0   0   0   0\n   0   0   0   0   0   0   0   0   0   0   0   0   0   0   0   0   0   0\n   0   0   0   0   0   0   0   0   0   0   0   0   0   0   0   0   0   0\n   0   0   0   0   0   0   0   0   0   0   0   0   0   0   0   0   0   0\n   0   0   0   0   0   0   0   0   0   0   0   0   0   0   0   0   0   0\n   0   0   0   0   0   0   0   0   0   0   0   0   0   0   0   0   0   0\n   0   0   0   0   0   0   0   0   0   0   0   0   0   0   0   0   0   0\n   0   0   0   0   0   0   0   0   0   0   0   0   0   0   0   0   0   0\n   0   0   0   0   0   0   0   0   0   0   0   0   0   0   0   0   0   0\n   0   0   0   0   0   0   0   0   0   0   0   0   0   0   0   0   0   0\n   0   0   0   0   0   0   0   0   0   0   0   0   0   0   0   0   0   0\n   0   0   0   0   0   0   0   0   0   0   0   0   0   0   0   0   0   0\n   0   0   0   0   0   0   0   0   0   0   0   0   0   0   0   0   0   0\n   0   0   0   0   0   0   0   0   0   0   0   0   0   0   0   0   0   0\n   0   0   0   0   0   0   0   0   0   0   0   0   0   0   0   0   0   0\n   0   0   0   0   0   0   0   0   0   0   0   0   0   0   0   0   0   0\n   0   0   0   0   0   0   0   0   0   0   0   0   0   0   0   0   0   0\n   0   0   0   0   0   0   0   0   0   0   0   0   0   0   0   0   0   0\n   0   0   0   0   0   0   0   0   0   0   0   0   0   0   0   0   0   0\n   0   0   0   0   0   0   0   0   0   0   0   0   0   0   0   0   0   0\n   0   0   0   0   0   0   0   0   0   0   0   0   0   0   0   0   0   0\n   0   0   0   0   0   0   0   0   0   0   0   0   0   0   0   0   0   0\n   0   0   0   0   0   0   0   0   0   0   0   0   0   0   0   0   0   0\n   0   0   0   0   0   0   0   0   0   0   0   0   0   0   0   0   0   0\n   0   0   0   0   0   0   0   0   0   0   0   0   0   0   0   0   0   0\n   0   0   0   0   0   0   0   0   0   0   0   0   0   0   0   0   0   0\n   0   0   0   0   0   0   0   0   0   0   0   0   0   0   0   0   0   0\n   0   0   0   0   0   0   0   0   0   0   0   0   0   0   0   0   0   0\n   0   0   0   0   0   0   0   0   0   0   0   0   0   0   0   0   0   0\n   0   0   0   0   0   0   0   0   0   0   0   0   0   0   0   0   0   0\n   0   0   0   0   0   0   0   0   0   0   0   0   0   0 319 787]\n"
     ]
    }
   ],
   "source": [
    "vocab_size = 47613\n",
    "embedding_dim = 100\n",
    "max_length = 664\n",
    "trunc_type='post'\n",
    "oov_tok = \"<OOV>\"\n",
    "\n",
    "tokenizer = Tokenizer(num_words = vocab_size, oov_token=oov_tok)\n",
    "tokenizer.fit_on_texts(x)\n",
    "word_index = tokenizer.word_index\n",
    "sequences = tokenizer.texts_to_sequences(x)\n",
    "padded = pad_sequences(sequences,maxlen=max_length, truncating=trunc_type)\n",
    "print(padded[0])"
   ]
  },
  {
   "cell_type": "code",
   "execution_count": 58,
   "metadata": {},
   "outputs": [],
   "source": [
    "\n",
    "def check(s):\n",
    "    seq = tokenizer.texts_to_sequences([s])\n",
    "    pad_s = pad_sequences(seq, maxlen=max_length, truncating=trunc_type)\n",
    "    return(pad_s)"
   ]
  },
  {
   "cell_type": "code",
   "execution_count": 37,
   "metadata": {},
   "outputs": [],
   "source": [
    "pen = open(fpath + '/Penolope.txt',  'rb').read().lower().decode(encoding='utf-8')\n",
    "pen = re.sub('\\n', ' ', pen)\n",
    "pen = re.sub('\\r', ' ', pen)"
   ]
  },
  {
   "cell_type": "code",
   "execution_count": 59,
   "metadata": {
    "tags": []
   },
   "outputs": [
    {
     "output_type": "stream",
     "name": "stdout",
     "text": [
      "The number of words is 24186\n"
     ]
    }
   ],
   "source": [
    "Penolope = nltk.word_tokenize(pen)\n",
    "print(\"The number of words is {}\".format(len(Penolope)))\n",
    "sentencelength=len(Penolope)"
   ]
  },
  {
   "cell_type": "code",
   "execution_count": 60,
   "metadata": {},
   "outputs": [],
   "source": [
    "wordlist=[]\n",
    "for word in Penolope:\n",
    "    wordlist.append(word)"
   ]
  },
  {
   "cell_type": "code",
   "execution_count": 69,
   "metadata": {
    "tags": []
   },
   "outputs": [],
   "source": [
    "f = open(fpath+'PenolopePunctuated.txt', \"a\")\n",
    "i=0\n",
    "sentence=\"\"\n",
    "for c in range(24186):\n",
    "    sentence=sentence+\" \"+wordlist[i]\n",
    "    currentvalue=model.predict(check(sentence))#this is the value of the current sentence prediction\n",
    "    if(currentvalue>0.999999)&(currentvalue<1):\n",
    "        f.write(sentence+\",\")\n",
    "        i=c\n",
    "        sentence=\"\"\n",
    "\n",
    "    i=i+1\n",
    "f.close()\n"
   ]
  }
 ]
}