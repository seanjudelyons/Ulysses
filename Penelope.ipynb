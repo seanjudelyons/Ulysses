{
 "metadata": {
  "language_info": {
   "codemirror_mode": {
    "name": "ipython",
    "version": 3
   },
   "file_extension": ".py",
   "mimetype": "text/x-python",
   "name": "python",
   "nbconvert_exporter": "python",
   "pygments_lexer": "ipython3",
   "version": "3.8.6-final"
  },
  "orig_nbformat": 2,
  "kernelspec": {
   "name": "python3",
   "display_name": "Python 3.8.6 64-bit",
   "metadata": {
    "interpreter": {
     "hash": "aee8b7b246df8f9039afb4144a1f6fd8d2ca17a180786b69acc140d282b71a49"
    }
   }
  }
 },
 "nbformat": 4,
 "nbformat_minor": 2,
 "cells": [
  {
   "cell_type": "code",
   "execution_count": 5,
   "metadata": {},
   "outputs": [
    {
     "output_type": "stream",
     "name": "stdout",
     "text": [
      "2.4.0\n",
      "[nltk_data] Downloading package punkt to /Users/seanlyons/nltk_data...\n",
      "[nltk_data]   Package punkt is already up-to-date!\n"
     ]
    },
    {
     "output_type": "execute_result",
     "data": {
      "text/plain": [
       "True"
      ]
     },
     "metadata": {},
     "execution_count": 5
    }
   ],
   "source": [
    "import tensorflow as tf\n",
    "from nltk.tokenize import word_tokenize\n",
    "from tensorflow.keras.preprocessing.text import Tokenizer\n",
    "from tensorflow.keras.preprocessing.sequence import pad_sequences\n",
    "from tensorflow.keras.models import Sequential\n",
    "from tensorflow.keras import layers\n",
    "from tensorflow.keras.layers import Dense\n",
    "import nltk\n",
    "from nltk.tokenize import sent_tokenize\n",
    "import numpy as np\n",
    "import random\n",
    "import re\n",
    "import os\n",
    "print(tf.__version__)\n",
    "nltk.download('punkt')"
   ]
  },
  {
   "cell_type": "code",
   "execution_count": 2,
   "metadata": {},
   "outputs": [],
   "source": [
    "fpath=os.path.join('/Users/seanlyons/Downloads/Ulyses/')"
   ]
  },
  {
   "cell_type": "code",
   "execution_count": 3,
   "metadata": {},
   "outputs": [],
   "source": [
    "from tensorflow import keras\n",
    "model = keras.models.load_model(fpath+'ulyses.h5')"
   ]
  },
  {
   "cell_type": "code",
   "execution_count": 6,
   "metadata": {},
   "outputs": [],
   "source": [
    "corpus = open(fpath + '/Training.txt',  'rb').read().lower().decode(encoding='utf-8')\n",
    "corpus = re.sub('\\n', ' ', corpus)\n",
    "corpus = re.sub('\\r', ' ', corpus)"
   ]
  },
  {
   "cell_type": "code",
   "execution_count": 7,
   "metadata": {},
   "outputs": [
    {
     "output_type": "stream",
     "name": "stdout",
     "text": [
      "The number of sentences is 23804\n"
     ]
    }
   ],
   "source": [
    "sentences = nltk.sent_tokenize(corpus)\n",
    "print(\"The number of sentences is {}\".format(len(sentences)))\n",
    "sentencelength=len(sentences)"
   ]
  },
  {
   "cell_type": "code",
   "execution_count": 8,
   "metadata": {},
   "outputs": [
    {
     "output_type": "stream",
     "name": "stdout",
     "text": [
      "The longest sentence has 664 words\n"
     ]
    }
   ],
   "source": [
    "word_count = lambda sentence: len(word_tokenize(sentence))\n",
    "longest_sentence = max(sentences, key=word_count)\n",
    "length_longest_sentence = len(word_tokenize(longest_sentence))\n",
    "print(\"The longest sentence has {} words\".format(length_longest_sentence))"
   ]
  },
  {
   "cell_type": "code",
   "execution_count": 9,
   "metadata": {
    "tags": [
     "outputPrepend"
    ]
   },
   "outputs": [
    {
     "output_type": "stream",
     "name": "stdout",
     "text": [
      "r the in sisters weird the by printed dundrum. of fishgods the and folk the about notes of pages ten and text of lines five haines. book, your for earnestly, very said he folk, that’s knife. his on impaled bread, of slice thick a turn in messmates his towards lunged he pot. one the in them make don’t you send god cahill, mrs says ma’am, begob, she. says cahill, mrs do, i so wheedling: and hewing on went mulligan buck said. haines tea, is it jove, by water. makes i water makes i when and said. grogan mother old as tea, makes i tea makes i when voice: wheedling woman’s old an in said loaf, the from slices thick hewing mulligan, buck you? don’t tea, strong make do you mulligan, say, i but, said. he each, lumps two you giving i’m tea. the out pour to down sat haines sancti. spiritus et filii et patris nomine in saying: plates, three on out it slapped and dish the on fry the through hacked he eggs. damned the at fumbling go can’t i here, bag. the in is sugar the there. tea the out pour down. sit chair. his from up jumping cried, mulligan buck you! on god of blessings the milk. the with up coming is woman that quietly: said and doorway the from in came haines milk. sandycove want i said. mulligan buck fads! paris your and you damn o, locker. the in lemon a there’s thirstily. said stephen black, it drink can we eight. after come to her told i said. he this? is kip a of sort what pet. sudden a in down sat mulligan buck locker. the from buttercooler the and honey of pot the and loaf the fetched stephen milk. no there’s jay, o, sugar? the where’s gifts. thy these and lord, o us, bless ready. is grub the in. come haines, honey. butter, bread, up! wake kinch, subject! that on more word a not hush! but, when... remarked candle the as said, he melting, i’m relief. with sighed and heavily down them set table, the to over teapot large a and dish the carried he then him. beside dish the to on fry the tossed mulligan buck wait. to down sat and table the to valise upended his haled stephen out. looking doorway, the at stood haines entered. air bright and light welcome ajar, set been had door heavy the when and, twice harshly round scraped key the forward. coming said, stephen lock, the in it’s kinch! fire: the from up looking without howled, he choked! i’m mack, janey said. mulligan buck it, has dedalus asked. voice a key? the you have doors. inner the open pulled and doorway the to went sitting, been had it where hammock the from rose figure tall a locker. the on shavingbowl the laid stephen you? will door, that open haines, said. mulligan buck choked, be we’ll turning. floated, grease fried of fumes and coalsmoke of cloud a rays their of meeting the at and barbacans: high the from floor flagged the across fell daylight soft of shafts two glow. yellow its revealing and hiding hearth, the about fro and to briskly moved form gowned mulligan’s buck tower the of livingroom domed gloomy the in servant. a of server a too. servant a same. the yet and now another am i clongowes. at then incense of boat the carried i so stuck. was brush the which in lather the of slaver clammy the smelling coolness, its feeling awhile, hands his in it held it, to over went he friendship? forgotten day, all there it leave or down? it bring i should why parapet. the on forgotten, shone, shavingbowl nickel the sea. the over merrying sunshine warm day! coronation on time merry a have we won’t o, day! coronation coronation, on wine! and beer whisky, drinking time, merry a have we won’t o, accent: cockney a with tune of out singing stairs, stone the down tramped and hands his up flung he sovereigns. omnipotent four druids. druidy the astonish to drunk glorious a have we’ll delight. with cried mulligan buck sovereigns, shining four said. stephen it, want you if one. us lend quid? four much? how said. mulligan buck kip? school the said. stephen morning, this paid get i mean. i guinea, a you? will quid, a for him touch clever. very it’s says he art. irish of symbol your him told i reappeared. and disappeared head his sakes. our all for and sake my for said. mulligan buck sake, jesus’ for do, turning. said, stephen coming, i’m right. all it’s night. last us waking for apologising is haines ready. is breakfast mosey. good a like down, come dedalus, words. friendly him behind air the in and sunlight running warm heard cry, soul’s his at trembling still stephen, again. calling staircase, the up nearer came it tower. the within from sang voice mulligan’s buck ahoy! kinch live. me let and be me let mother! no, corpses! of chewer ghoul! excipiat. chorus virginum te iubilantium circumdet: turma confessorum te rutilantium liliata down. me strike to me on eyes her knees. their on prayed all while horror, in rattling breath loud hoarse her face. tortured the on light ghostly agony. her light to ghostcandle the alone. me on soul. my bend and shake to death, of out staring eyes, glazing her ashes. wetted of odour faint a words, secret mute with him over bent breath, her rosewood, and wax of odour an off giving graveclothes loose its within body wasted her him, to come had she silently, dream, a in shirts. children’s the from lice squashed of blood the by reddened fingernails shapely her evening. autumn dark a on hob the at her for roasting sugar, brown with filled apple, cored a sacrament. the approached had she when tap kitchen the from water of glass her brain. brooding his beset memories toys. her with nature of memory the in away folded brood. and aside turn more no and muskperfumed. away: folded mirth, phantasmal invisibility. enjoy can that boy the am i sang: he when others with laughed and terrible the turko of pantomime the in sing royce old heard she girl. a was she when house her of window sunny the in hung birdcage a drawer. locked her in beads amber of gaud a musk, with powdered dancecards, tasselled featherfans, old secrets: her now? where mystery. bitter love’s stephen: words, those for bed. wretched her in crying was she bedside. her to went i pity and awe with silent music. my hear to wanted she open: was door her chords. dark long the down holding house, the in alone it sang i song: fergus’ waters. bitter of bowl a him, beneath lay it green. deeper in bay the shadowing wholly, slowly, sun the cover to began cloud a tide. dim the on shimmering words wedded wavewhite chords. twining their merging harpstrings, the plucking hand a two. by two stresses, twining the sea. dim the of breast white feet. hurrying lightshod by spurned whitened, water of mirror the out farther and inshore gazed. he where seaward stairhead the from peace morning the through by silently floated woodshadows cars. brazen the rules fergus for mystery bitter love’s upon brood and aside turn more no and stairhead: the of out boomed voice descending his of drone the but vanished head his brooding. moody the up give inconsequent. i’m said. he day, all it over mope don’t roof: the with level staircase, the of top the at moment a for again halted head his rashers. morning his wants sassenach the down. on come and kinch, loyola, chuck offences? about care it does what sea. the at look said: and stephen towards turned he answered. mulligan buck coming, i’m mulligan? there, up you are loudly: called tower the within voice a cheeks. his of fever the felt he and sight, their veiling eyes, his in beating were pulses dim. grew now headland and sea headland. the towards sea calm the over gazing post, his at stood stephen parapet. the round quickly off walked he exclaimed. he person! impossible an o, heel. his on round swung mulligan buck answered. stephen me, to offence the of asked. mulligan buck then? what of mother. my to offence the of thinking not am i coldly: very said heart, his in left had words the which wounds gaping the shielding stephen, boldness. into himself spoken had he mother. your of memory the offend to mean didn’t i it. say did i suppose i absurd! lalouette’s. from mute hired some like whinge don’t i because me with sulk you yet and death in wish last her crossed you over. it’s till her humour quilt. the off buttercups picks and teazle peter sir doctor the calls she functioning. not are lobes cerebral her beastly. and mockery a all it’s me to way. wrong the injected it’s only you, in strain jesuit cursed the have you because why? you. asked she when deathbed her on mother your for pray to down kneel wouldn’t you matter. doesn’t simply it else. nothing and thing beastly a it’s dissectingroom. the in tripes into up cut and richmond and mater the in day every off pop them see i die. mother your only saw you own? my or yours or mother’s your asked, he death, is what and nervously. him from constraint his shook he that? is harm what well? asked. he that? say i did cheek. mulligan’s buck to rose engaging more and younger seem him made which flush a dead. beastly is mother whose dedalus only it’s o, answered, stephen said, you forget. i say? i did what said. mulligan buck yes? room. your in was who you asked she drawingroom. the of out came visitor some and mother your water. hot more get to landing the across went and said, stephen tea, making were you god? of name the in happened what why? sensations. and ideas only remember i anything. remember can’t i where? what? said: and quickly frowned mulligan buck death? mother’s my after house your to went i day first the remember you do said: voice, own his by depressed stephen, eyes. his in anxiety of points silver stirring and hair uncombed fair his softly fanning brow, his passed wind light a spoke. he as face stephen’s in looked he anything. remember don’t i answered. mulligan buck it? is what yes, asked. he you? tell to me wish you do quietly. arm his freed stephen whale. sleeping a of snout the like water the on lay that head bray of cape blunt the towards looking halted, they now? me against you have what you. with frank quite i’m up. it cough impatiently. asked mulligan buck it? is what then night. at except him with wrong nothing there’s said. stephen stay, him let omphalos. paganism... new ourselves... to grasshalms. of motes dancing the narrowly watching lawn sombre the on mower his pushes face, arnold’s matthew with masked aproned, gardener, deaf a quadrangle. the in evening startling window open the from shouts me! with ox giddy the play you don’t debagged! be to want don’t i marmalade. with gilded face calf’s scared a shears. tailor’s the with magdalen of ades by chased heels, at down trousers with table, the round hobbles and hops he air the whipping shirt his of ribbons slit with die! shall i aubrey! gently, her to news the break expire! shall i o, another. clasping one laughter, with ribs their hold they palefaces: rooms. kempthorpe’s clive in voices moneyed of shouts young kempthorpe. clive gave they than worse ragging a him give we’ll and seymour down bring i’ll here noise any makes he if haines? it is me? against nose your up you have what more? me trust you don’t why are. you what knows that one only the i’m swine. these from beg to having your of think to and arm. his arm. cranly’s it. hellenise island. the for something do might we together work only could i and you if kinch, god, other. or swindle bloody some or zulus to jalap selling by tin his made fellow old his gentleman. a not you’re thinks and money with stinking he’s guinea. a for him touch and downstairs chap oxy the to that tell servant! a of lookingglass cracked pen. steel cold the his. of that fear i as art my of lancet the fears he again. parried them. of any than spirit more have you knows god kindly. said he it? is kinch, that, like you tease to fair not it’s them. thrust had he where pocket the in clacking mirror and razor his tower, the round him with walked and stephen’s in arm his linked suddenly mulligan buck servant. a of lookingglass cracked the art. irish of symbol a is it bitterness: with said stephen pointing, and back drawing you! see to alive only were wilde if said. he mirror, a in face his seeing not at caliban of rage the eyes. peering stephen’s from away mirror the brought he again, laughing ursula. is name her and temptation. into not him lead malachi. for servants plainlooking keeps always aunt the right. all her does it said. mulligan buck room, skivvy’s the of out it pinched i too. me asks it vermin. of rid to dogsbody this me? for face this chose who me. see others and he as end. on hair crack. crooked a by cleft him, to out held mirror the at peered and forward bent stephen bard! dreadful you said, he yourself, at look trunk. wellknit strong his all seized laughter teeth. glittering white his of edges the and laughed lips shaven curling his sea. the on radiant now sunlight in abroad tidings the flash to air the in circle half a mirror the swept he insane! the of paralysis general norman. connolly with dottyville in up he’s i. p. g. have you says mulligan, buck said night, last ship the in with was i fellow that eyes. mobile smokeblue its with face plump the to and sea the from gaze his turned stephen skin. smooth the felt fingers of palps stroking with and neatly razor his folded he trousers. grey wear can’t he but mother his kills he etiquette. is etiquette mirror. the in face his told mulligan buck them, wear can’t he grey. are they if them wear can’t i said. stephen thanks, dressed. you’re when well damn look you kinch. joking, not i’m them. in spiffing look you’ll grey. stripe, hair a with pair lovely a have i off. them left bowsy poxy what knows god be. should they secondleg contentedly. said he it, of mockery the underlip. his beneath hollow the attacked mulligan buck answered. stephen enough, well fit they breeks? secondhand the are how noserags. few a and shirt a you give must i voice. kind a in said he dogsbody! poor ah, razorblade. his again wiped mulligan buck vomiting. groaning loud of fits by liver rotting her from up torn had she which bile sluggish green the holding deathbed her beside stood had china white of bowl a liquid. of mass green dull a held skyline and bay of ring the him. beside voice wellfed the by mother sweet great a as hailed sea the saw he cuffedge threadbare the across ashes. wetted of odour faint a reproachful, mute, him, upon bent had that breath, her rosewood, and wax of odour an off giving graveclothes brown loose its within body wasted her death, her after him to come had she dream a in silently, heart. his fretted love, of pain the yet not was that pain, coatsleeve. black shiny his of edge fraying the at gazed and brow his against palm his leaned granite, jagged the on rested elbow an stephen, seriously. silence, in care, with and evenly shaved he all! them of mummer loveliest the kinch, himself. to murmured he mummer! lovely a but lips. his curled smile tolerant a cheek. farther his lightly again lathered and off broke he you.... in sinister something is there refused. you and her. for pray and down kneel to breath last her with you begging mother your of think to but you. as much as hyperborean i’m said. mulligan buck you, asked mother dying your when kinch, it, damn down, knelt have could you gloomily. said stephen her, killed someone you. with do to anything have me let won’t she why that’s said. he mother, your killed you thinks aunt the face. stephen’s to sea the from eyes searching grey his abruptly turned he said. mulligan buck mother! mighty our kingstown. of harbourmouth the clearing mailboat the on and water the on down looked he it on leaning parapet. the to over went and up stood stephen look. and come mother. sweet great our is she thalatta! thalatta! original. the in them read must you you. teach must i greeks! the dedalus, ah, ponton. oinopa epi sea. scrotumtightening the sea. snotgreen the mother? sweet great a it: calls algy what sea the isn’t quietly. said he god! slightly. stirring hair oakpale fair his bay, dublin over out gazed and again parapet the to mounted he you? can’t it, taste almost can you snotgreen. poets: irish our for colour art new a noserag! bard’s the said: he handkerchief, the over gazing then, neatly. razorblade the wiped mulligan buck handkerchief. crumpled dirty a corner its by show on up hold and out pull to him suffered stephen razor. my wipe to noserag your of loan a us lend said: pocket, upper stephen’s into hand a thrusting and, gunrest the to over came he thickly. cried he scutter! hastily. pockets trouser his search to began and perch his from down hopped he razorblade. his on lather the at frowned mulligan buck off. am i here on stays he if however. hero, a not i’m drowning. from men saved you panther. black a shooting about himself to moaning and raving know don’t i man a with dark the in here out fear. growing and energy with said stephen was, i funk? a in you were said. mulligan lunatic! woful a guncase? his is where said. stephen panther, black a about night all raving was he chin. his over warily shaved he knifeblade. the kinch, best: the is you for name my o, out. you make can’t he manner. oxford real the have you dedalus, know, you oxford. from comes he because indigestion. and money with bursting english! bloody these god, gentleman. a not you’re thinks he saxon. ponderous a frankly. said he dreadful? he isn’t god, shoulder. right his over cheek shaven a showed mulligan buck tower? this in stay to going haines is long how love? my yes, quietly. said stephen mulligan, me, tell care. with shave to began he ceasing, jesuit! jejune the come? he will cried: delight, with laughing and, aside brush the laid he quid? twenty out fork to aunt the get can i if come you will athens. to go must we himself. buck the like sunny and tripping it? hasn’t ring, hellenic a has it but dactyls. two mulligan, malachi too: absurd is name my on. went voice gay mulligan’s buck neck. and cheeks lathered and bowl the in brush the dipped parapet, the on mirror his propped he as still him watching gunrest, the of edge the on down sat and halfway wearily him followed up, stepped dedalus stephen himself. to laughing parapet, the to over went and jest friendly in finger his pointed he greek! ancient an name, absurd your gaily. said he it! of mockery the lips. his over quietly broke smile pleasant a ages. middle the in arts of patron prelate, a recalled jowl oval sullen and face shadowed plump the gown. his of folds loose the legs his about gathering watcher, his at gravely looked and gunrest the off skipped he you? will current, the off switch nicely. do will that briskly. cried he chap, old thanks, calm. the through answered whistles shrill strong two chrysostomos. points. gold with there and here glistening teeth white even his attention, rapt in awhile paused then call, of whistle slow long a gave and up sideways peered he all. silence, corpuscles. white those about trouble little a moment. one gents. eyes, your shut please. music, slow ouns. and blood and soul and body christine: genuine the is beloved, dearly o this, for tone: preacher’s a in added he sternly. said he barracks! to back smartly. bowl the covered then and mirror the under instant an peeped mulligan buck oak. pale like hued and grained hair, untonsured light the at and length, its in equine him, blessed that face gurgling shaking the at coldly looked and staircase the of top the on arms his leaned sleepy, and displeased dedalus, stephen head. his shaking and throat his in gurgling air, the in crosses rapid made and him towards bent he dedalus, stephen of sight catching then, mountains. awaking the and land surrounding the tower, the thrice gravely blessed and about faced he gunrest. round the mounted and forward came he solemnly jesuit! fearful you up, come kinch! up, come coarsely: out called and stairs winding dark the down peered he halted, dei. altare ad introibo intoned: and aloft bowl the held he air. morning mild the on him behind gently sustained was ungirdled, dressinggown, yellow a crossed. lay razor a and mirror a which on lather of bowl a bearing stairhead, the from came mulligan buck plump stately,\n"
     ]
    }
   ],
   "source": [
    "word_list = corpus.split()\n",
    "reversed_list = word_list[:: -1]\n",
    "reversecorpus = \" \".join(reversed_list)\n",
    "print(reversecorpus)"
   ]
  },
  {
   "cell_type": "code",
   "execution_count": 10,
   "metadata": {},
   "outputs": [
    {
     "output_type": "stream",
     "name": "stdout",
     "text": [
      "The number of sentences is 23804\n"
     ]
    }
   ],
   "source": [
    "revsentences = nltk.sent_tokenize(reversecorpus)\n",
    "print(\"The number of sentences is {}\".format(len(sentences)))\n",
    "sentencelength=len(revsentences)"
   ]
  },
  {
   "cell_type": "code",
   "execution_count": 11,
   "metadata": {},
   "outputs": [
    {
     "output_type": "stream",
     "name": "stdout",
     "text": [
      "The longest sentence has 664 words\n"
     ]
    }
   ],
   "source": [
    "longest_revsentence = max(revsentences, key=word_count)\n",
    "length_longest_revsentence = len(word_tokenize(longest_revsentence))\n",
    "print(\"The longest sentence has {} words\".format(length_longest_revsentence))"
   ]
  },
  {
   "cell_type": "code",
   "execution_count": 12,
   "metadata": {},
   "outputs": [
    {
     "output_type": "stream",
     "name": "stdout",
     "text": [
      "not to inherit by right of primogeniture, gavelkind or borough english,  or possess in perpetuity an extensive demesne of a sufficient number of  acres, roods and perches, statute land measure (valuation £ 42), of  grazing turbary surrounding a baronial hall with gatelodge and carriage  drive nor, on the other hand, a terracehouse or semidetached villa,  described as rus in urbe or c, but to purchase by private  treaty in fee simple a thatched bungalowshaped 2 storey dwellinghouse  of southerly aspect, surmounted by vane and lightning conductor,  connected with the earth, with porch covered by parasitic plants (ivy  or virginia creeper), halldoor, olive green, with smart carriage finish  and neat doorbrasses, stucco front with gilt tracery at eaves and  gable, rising, if possible, upon a gentle eminence with agreeable  prospect from balcony with stone pillar parapet over unoccupied and  unoccupyable interjacent pastures and standing in 5 or 6 acres of its  own ground, at such a distance from the nearest public thoroughfare as  to render its houselights visible at night above and through a quickset  hornbeam hedge of topiary cutting, situate at a given point not less  than 1 statute mile from the periphery of the metropolis, within a time  limit of not more than 15 minutes from tram or train line (e.g.,  dundrum, south, or sutton, north, both localities equally reported by  trial to resemble the terrestrial poles in being favourable climates  for phthisical subjects), the premises to be held under feefarm grant,  lease 999 years, the messuage to consist of 1 drawingroom with  baywindow (2 lancets), thermometer affixed, 1 sittingroom, 4 bedrooms,  2 servants’ rooms, tiled kitchen with close range and scullery, lounge  hall fitted with linen wallpresses, fumed oak sectional bookcase  containing the encyclopaedia britannica and new century dictionary,  transverse obsolete medieval and oriental weapons, dinner gong,  alabaster lamp, bowl pendant, vulcanite automatic telephone receiver  with adjacent directory, handtufted axminster carpet with cream ground  and trellis border, loo table with pillar and claw legs, hearth with  massive firebrasses and ormolu mantel chronometer clock, guaranteed  timekeeper with cathedral chime, barometer with hygrographic chart,  comfortable lounge settees and corner fitments, upholstered in ruby  plush with good springing and sunk centre, three banner japanese screen  and cuspidors (club style, rich winecoloured leather, gloss renewable  with a minimum of labour by use of linseed oil and vinegar) and  pyramidically prismatic central chandelier lustre, bentwood perch with  fingertame parrot (expurgated language), embossed mural paper at 10/  per dozen with transverse swags of carmine floral design and top crown  frieze, staircase, three continuous flights at successive right angles,  of varnished cleargrained oak, treads and risers, newel, balusters and  handrail, with steppedup panel dado, dressed with camphorated wax:  bathroom, hot and cold supply, reclining and shower: water closet on  mezzanine provided with opaque singlepane oblong window, tipup seat,  bracket lamp, brass tierod and brace, armrests, footstool and artistic  oleograph on inner face of door: ditto, plain: servants’ apartments  with separate sanitary and hygienic necessaries for cook, general and  betweenmaid (salary, rising by biennial unearned increments of £ 2,  with comprehensive fidelity insurance, annual bonus (£ 1) and retiring  allowance (based on the 65 system) after 30 years’ service), pantry,  buttery, larder, refrigerator, outoffices, coal and wood cellarage with  winebin (still and sparkling vintages) for distinguished guests, if  entertained to dinner (evening dress), carbon monoxide gas supply  throughout.\nsupply gas monoxide carbon dress), (evening dinner to entertained if guests, distinguished for vintages) sparkling and (still winebin with cellarage wood and coal outoffices, refrigerator, larder, buttery, pantry, service), years’ 30 after system) 65 the on (based allowance retiring and 1) (£ bonus annual insurance, fidelity comprehensive with 2, £ of increments unearned biennial by rising (salary, betweenmaid and general cook, for necessaries hygienic and sanitary separate with apartments servants’ plain: ditto, door: of face inner on oleograph artistic and footstool armrests, brace, and tierod brass lamp, bracket seat, tipup window, oblong singlepane opaque with provided mezzanine on closet water shower: and reclining supply, cold and hot bathroom, wax: camphorated with dressed dado, panel steppedup with handrail, and balusters newel, risers, and treads oak, cleargrained varnished of angles, right successive at flights continuous three staircase, frieze, crown top and design floral carmine of swags transverse with dozen per 10/ at paper mural embossed language), (expurgated parrot fingertame with perch bentwood lustre, chandelier central prismatic pyramidically and vinegar) and oil linseed of use by labour of minimum a with renewable gloss leather, winecoloured rich style, (club cuspidors and screen japanese banner three centre, sunk and springing good with plush ruby in upholstered fitments, corner and settees lounge comfortable chart, hygrographic with barometer chime, cathedral with timekeeper guaranteed clock, chronometer mantel ormolu and firebrasses massive with hearth legs, claw and pillar with table loo border, trellis and ground cream with carpet axminster handtufted directory, adjacent with receiver telephone automatic vulcanite pendant, bowl lamp, alabaster gong, dinner weapons, oriental and medieval obsolete transverse dictionary, century new and britannica encyclopaedia the containing bookcase sectional oak fumed wallpresses, linen with fitted hall lounge scullery, and range close with kitchen tiled rooms, servants’ 2 bedrooms, 4 sittingroom, 1 affixed, thermometer lancets), (2 baywindow with drawingroom 1 of consist to messuage the years, 999 lease grant, feefarm under held be to premises the subjects), phthisical for climates favourable being in poles terrestrial the resemble to trial by reported equally localities both north, sutton, or south, dundrum, (e.g., line train or tram from minutes 15 than more not of limit time a within metropolis, the of periphery the from mile statute 1 than less not point given a at situate cutting, topiary of hedge hornbeam quickset a through and above night at visible houselights its render to as thoroughfare public nearest the from distance a such at ground, own its of acres 6 or 5 in standing and pastures interjacent unoccupyable and unoccupied over parapet pillar stone with balcony from prospect agreeable with eminence gentle a upon possible, if rising, gable, and eaves at tracery gilt with front stucco doorbrasses, neat and finish carriage smart with green, olive halldoor, creeper), virginia or (ivy plants parasitic by covered porch with earth, the with connected conductor, lightning and vane by surmounted aspect, southerly of dwellinghouse storey 2 bungalowshaped thatched a simple fee in treaty private by purchase to but c, or urbe in rus as described villa, semidetached or terracehouse a hand, other the on nor, drive carriage and gatelodge with hall baronial a surrounding turbary grazing of 42), £ (valuation measure land statute perches, and roods acres, of number sufficient a of demesne extensive an perpetuity in possess or english, borough or gavelkind primogeniture, of right by inherit to not coalesced?\n"
     ]
    }
   ],
   "source": [
    "print(longest_sentence)\n",
    "print(longest_revsentence)"
   ]
  },
  {
   "cell_type": "code",
   "execution_count": 13,
   "metadata": {},
   "outputs": [],
   "source": [
    "data=[]\n",
    "labels=[]\n",
    "for i in sentences:\n",
    "  data.append(i)\n",
    "  labels.append(1)\n",
    "for j in revsentences:\n",
    "  data.append(j)\n",
    "  labels.append(0)"
   ]
  },
  {
   "cell_type": "code",
   "execution_count": 14,
   "metadata": {},
   "outputs": [
    {
     "output_type": "stream",
     "name": "stdout",
     "text": [
      "his of wings the tightening eaters, tabled and stooled the round gazed he this.\n0\nback to barracks!\n1\n"
     ]
    }
   ],
   "source": [
    "training_sentences = np.array(data)\n",
    "training_labels = np.array(labels)\n",
    "print(training_sentences[40000])\n",
    "print(training_labels[40000])\n",
    "print(training_sentences[10])\n",
    "print(training_labels[10])"
   ]
  },
  {
   "cell_type": "code",
   "execution_count": 15,
   "metadata": {},
   "outputs": [],
   "source": [
    "x = training_sentences\n",
    "y = training_labels\n",
    "temp = list(zip(x, y))\n",
    "random.shuffle(temp)\n",
    "x, y = zip(*temp)"
   ]
  },
  {
   "cell_type": "code",
   "execution_count": 19,
   "metadata": {},
   "outputs": [
    {
     "output_type": "stream",
     "name": "stdout",
     "text": [
      "how did she do?\n1\nare we bootlace.)\n0\n(47613,)\n(47613,)\n"
     ]
    }
   ],
   "source": [
    "x=np.array(x)\n",
    "y=np.array(y)\n",
    "print(x[88])\n",
    "print(y[88])\n",
    "print(x[17])\n",
    "print(y[17])\n",
    "print(x.shape)\n",
    "print(y.shape)"
   ]
  },
  {
   "cell_type": "code",
   "execution_count": 20,
   "metadata": {},
   "outputs": [
    {
     "output_type": "stream",
     "name": "stdout",
     "text": [
      "[  0   0   0   0   0   0   0   0   0   0   0   0   0   0   0   0   0   0\n   0   0   0   0   0   0   0   0   0   0   0   0   0   0   0   0   0   0\n   0   0   0   0   0   0   0   0   0   0   0   0   0   0   0   0   0   0\n   0   0   0   0   0   0   0   0   0   0   0   0   0   0   0   0   0   0\n   0   0   0   0   0   0   0   0   0   0   0   0   0   0   0   0   0   0\n   0   0   0   0   0   0   0   0   0   0   0   0   0   0   0   0   0   0\n   0   0   0   0   0   0   0   0   0   0   0   0   0   0   0   0   0   0\n   0   0   0   0   0   0   0   0   0   0   0   0   0   0   0   0   0   0\n   0   0   0   0   0   0   0   0   0   0   0   0   0   0   0   0   0   0\n   0   0   0   0   0   0   0   0   0   0   0   0   0   0   0   0   0   0\n   0   0   0   0   0   0   0   0   0   0   0   0   0   0   0   0   0   0\n   0   0   0   0   0   0   0   0   0   0   0   0   0   0   0   0   0   0\n   0   0   0   0   0   0   0   0   0   0   0   0   0   0   0   0   0   0\n   0   0   0   0   0   0   0   0   0   0   0   0   0   0   0   0   0   0\n   0   0   0   0   0   0   0   0   0   0   0   0   0   0   0   0   0   0\n   0   0   0   0   0   0   0   0   0   0   0   0   0   0   0   0   0   0\n   0   0   0   0   0   0   0   0   0   0   0   0   0   0   0   0   0   0\n   0   0   0   0   0   0   0   0   0   0   0   0   0   0   0   0   0   0\n   0   0   0   0   0   0   0   0   0   0   0   0   0   0   0   0   0   0\n   0   0   0   0   0   0   0   0   0   0   0   0   0   0   0   0   0   0\n   0   0   0   0   0   0   0   0   0   0   0   0   0   0   0   0   0   0\n   0   0   0   0   0   0   0   0   0   0   0   0   0   0   0   0   0   0\n   0   0   0   0   0   0   0   0   0   0   0   0   0   0   0   0   0   0\n   0   0   0   0   0   0   0   0   0   0   0   0   0   0   0   0   0   0\n   0   0   0   0   0   0   0   0   0   0   0   0   0   0   0   0   0   0\n   0   0   0   0   0   0   0   0   0   0   0   0   0   0   0   0   0   0\n   0   0   0   0   0   0   0   0   0   0   0   0   0   0   0   0   0   0\n   0   0   0   0   0   0   0   0   0   0   0   0   0   0   0   0   0   0\n   0   0   0   0   0   0   0   0   0   0   0   0   0   0   0   0   0   0\n   0   0   0   0   0   0   0   0   0   0   0   0   0   0   0   0   0   0\n   0   0   0   0   0   0   0   0   0   0   0   0   0   0   0   0   0   0\n   0   0   0   0   0   0   0   0   0   0   0   0   0   0   0   0   0   0\n   0   0   0   0   0   0   0   0   0   0   0   0   0   0   0   0   0   0\n   0   0   0   0   0   0   0   0   0   0   0   0   0   0   0   0   0   0\n   0   0   0   0   0   0   0   0   0   0   0   0   0   0   0   0   0   0\n   0   0   0   0   0   0   0   0   0   0   0   0   0   0   0   0   0   0\n   0   0   0   0   0   0   0   0   0   0   0   0   0   2 148 151]\n"
     ]
    }
   ],
   "source": [
    "vocab_size = 47613\n",
    "embedding_dim = 100\n",
    "max_length = 664\n",
    "trunc_type='post'\n",
    "oov_tok = \"<OOV>\"\n",
    "\n",
    "tokenizer = Tokenizer(num_words = vocab_size, oov_token=oov_tok)\n",
    "tokenizer.fit_on_texts(x)\n",
    "word_index = tokenizer.word_index\n",
    "sequences = tokenizer.texts_to_sequences(x)\n",
    "padded = pad_sequences(sequences,maxlen=max_length, truncating=trunc_type)\n",
    "print(padded[0])"
   ]
  },
  {
   "cell_type": "code",
   "execution_count": 115,
   "metadata": {},
   "outputs": [],
   "source": [
    "\n",
    "def check(s):\n",
    "    seq = tokenizer.texts_to_sequences([s])\n",
    "    pad_s = pad_sequences(seq, maxlen=max_length, truncating=trunc_type)\n",
    "    return(pad_s)\n",
    "def maximum(a,b):\n",
    "    if a>b:\n",
    "        return a\n",
    "    else:\n",
    "        return b\n",
    "\n",
    "def minimum(a,b):\n",
    "    if a<b:\n",
    "        return a\n",
    "    else:\n",
    "        return b"
   ]
  },
  {
   "cell_type": "code",
   "execution_count": 76,
   "metadata": {},
   "outputs": [],
   "source": [
    "pen = open(fpath + '/Penolope.txt',  'rb').read().lower().decode(encoding='utf-8')\n",
    "pen = re.sub('\\n', ' ', pen)\n",
    "pen = re.sub('\\r', ' ', pen)"
   ]
  },
  {
   "cell_type": "code",
   "execution_count": 77,
   "metadata": {
    "tags": []
   },
   "outputs": [
    {
     "output_type": "stream",
     "name": "stdout",
     "text": [
      "The number of words is 24186\n"
     ]
    }
   ],
   "source": [
    "Penolope = nltk.word_tokenize(pen)\n",
    "print(\"The number of words is {}\".format(len(Penolope)))\n",
    "sentencelength=len(Penolope)"
   ]
  },
  {
   "cell_type": "code",
   "execution_count": 84,
   "metadata": {},
   "outputs": [
    {
     "output_type": "stream",
     "name": "stdout",
     "text": [
      "yes\n"
     ]
    }
   ],
   "source": [
    "wordlist=[]\n",
    "for word in Penolope:\n",
    "    wordlist.append(word)"
   ]
  },
  {
   "cell_type": "code",
   "execution_count": 130,
   "metadata": {
    "tags": []
   },
   "outputs": [
    {
     "output_type": "stream",
     "name": "stdout",
     "text": [
      " yes because he never did a thing like that.\n",
      " before as ask to.\n",
      " get his.\n",
      " breakfast in bed with a.\n",
      " couple of.\n",
      " eggs since the.\n",
      " city arms hotel when he used to be.\n",
      " pretending to be laid up.\n",
      " with a.\n",
      " sick voice doing his.\n",
      " highness to make himself.\n",
      " interesting for that old faggot mrs riordan that he thought he had a.\n",
      " great leg.\n",
      " of and she never left us a farthing all for masses for herself and her soul greatest miser ever was actually afraid to lay out 4d for her methylated spirit telling me all.\n",
      " her ailments she had too.\n",
      " much old chat in her.\n",
      " about politics and earthquakes and the.\n",
      " end of the.\n",
      " world let us have a bit of.\n",
      " fun first god help the world if all the women were her.\n",
      " sort down.\n",
      " on bathingsuits and lownecks of course nobody wanted her to wear them i suppose she was pious because no man would look at her twice i hope ill never be like her.\n",
      " a wonder she didnt want us.\n",
      " to cover our faces but she was a welleducated woman certainly and her gabby talk.\n",
      " about mr riordan here and mr riordan there i suppose he was glad to get.\n",
      " shut of her.\n",
      " and her.\n",
      " dog smelling my fur and always edging to get up under my petticoats especially then still i like that in him polite to old women like that and waiters and beggars.\n",
      " too hes not proud out.\n",
      " of nothing but not always if ever he.\n",
      " got anything.\n",
      " really serious the matter.\n",
      " with him its.\n",
      " much better for.\n",
      " them to go into a.\n",
      " hospital where everything is clean but i suppose id have to dring it into.\n",
      " him for a.\n",
      " month yes and then wed have a hospital nurse next thing on.\n",
      " the carpet have him staying.\n",
      " there till they throw him out or a nun maybe like the smutty photo he has shes as much.\n",
      " a nun as im not yes.\n",
      " because theyre so weak and puling when theyre sick they want a woman to get well if his nose bleeds youd think it was o tragic and that dyinglooking one off the south circular when he sprained his foot at the choir party at the sugarloaf mountain the day i wore that dress miss stack bringing him flowers the worst old ones she could find at the.\n",
      " bottom of the.\n",
      " basket anything at all to get into a.\n",
      " mans bedroom with her.\n",
      " old maids voice trying.\n",
      " to imagine he was dying on account of her.\n",
      " to never see thy face again though he looked more.\n",
      " like a.\n",
      " man with his.\n",
      " beard a bit grown in the.\n",
      " bed father.\n",
      " was the.\n",
      " same besides i hate bandaging and dosing when he cut his toe with the.\n",
      " razor paring his corns afraid hed get bloodpoisoning but if it was a.\n",
      " thing i was sick then wed see what attention only of course the woman hides it not to give.\n",
      " all the trouble they do.\n",
      " yes he came somewhere im sure by his.\n",
      " appetite anyway love its not or hed be off his feed thinking of her.\n",
      " so either it was one of those.\n",
      " night women if it was.\n",
      " down there he was really and the.\n",
      " hotel story.\n",
      " he made.\n",
      " up a.\n",
      " pack of.\n",
      " lies to hide it.\n",
      " planning it hynes kept me who did i meet ah yes i met do you remember menton and who else who let me see that big babbyface i saw him.\n",
      " and he.\n",
      " not long married flirting with a.\n",
      " young girl at pooles myriorama and turned my back on him.\n",
      " when he.\n",
      " slinked out looking quite conscious what harm but he had.\n",
      " the impudence to make up.\n",
      " to me one.\n",
      " time well done to him.\n",
      " mouth almighty and his.\n",
      " boiled eyes.\n",
      " of all.\n",
      " the big stupoes.\n",
      " i ever.\n",
      " met and thats.\n",
      " called a solicitor only for.\n",
      " i hate having a.\n",
      " long wrangle in.\n",
      " bed or else if its not that.\n",
      " its some little bitch or other he.\n",
      " got in.\n",
      " with somewhere or picked up.\n",
      " on the.\n",
      " sly if.\n",
      " they only.\n",
      " knew him as well as i do yes because the.\n",
      " day before yesterday he was scribbling something a.\n",
      " letter when i came into the.\n",
      " front room to show him dignams death in the.\n",
      " paper as if something.\n",
      " told me.\n",
      " and he covered it up with the.\n",
      " blottingpaper pretending.\n",
      " to be thinking about business so very.\n",
      " probably that.\n",
      " was it to somebody.\n",
      " who thinks she.\n",
      " has a.\n",
      " softy in him.\n",
      " because all men.\n",
      " get a.\n",
      " bit like that at his.\n",
      " age especially getting on to.\n",
      " forty he is now so as to wheedle any.\n",
      " money she can out of.\n",
      " him no fool like an.\n"
     ]
    },
    {
     "output_type": "error",
     "ename": "KeyboardInterrupt",
     "evalue": "",
     "traceback": [
      "\u001b[0;31m---------------------------------------------------------------------------\u001b[0m",
      "\u001b[0;31mKeyboardInterrupt\u001b[0m                         Traceback (most recent call last)",
      "\u001b[0;32m<ipython-input-130-870d6140c386>\u001b[0m in \u001b[0;36m<module>\u001b[0;34m\u001b[0m\n\u001b[1;32m      4\u001b[0m \u001b[0;32mfor\u001b[0m \u001b[0mc\u001b[0m \u001b[0;32min\u001b[0m \u001b[0mrange\u001b[0m\u001b[0;34m(\u001b[0m\u001b[0;36m24186\u001b[0m\u001b[0;34m)\u001b[0m\u001b[0;34m:\u001b[0m\u001b[0;34m\u001b[0m\u001b[0;34m\u001b[0m\u001b[0m\n\u001b[1;32m      5\u001b[0m     \u001b[0msentence\u001b[0m\u001b[0;34m=\u001b[0m\u001b[0msentence\u001b[0m\u001b[0;34m+\u001b[0m\u001b[0;34m\" \"\u001b[0m\u001b[0;34m+\u001b[0m\u001b[0mwordlist\u001b[0m\u001b[0;34m[\u001b[0m\u001b[0mj\u001b[0m\u001b[0;34m]\u001b[0m\u001b[0;34m\u001b[0m\u001b[0;34m\u001b[0m\u001b[0m\n\u001b[0;32m----> 6\u001b[0;31m     \u001b[0mcurrentvalue\u001b[0m\u001b[0;34m=\u001b[0m\u001b[0mmodel\u001b[0m\u001b[0;34m.\u001b[0m\u001b[0mpredict\u001b[0m\u001b[0;34m(\u001b[0m\u001b[0mcheck\u001b[0m\u001b[0;34m(\u001b[0m\u001b[0msentence\u001b[0m\u001b[0;34m)\u001b[0m\u001b[0;34m)\u001b[0m\u001b[0;31m#this is the value of the current sentence prediction\u001b[0m\u001b[0;34m\u001b[0m\u001b[0;34m\u001b[0m\u001b[0m\n\u001b[0m\u001b[1;32m      7\u001b[0m \u001b[0;34m\u001b[0m\u001b[0m\n\u001b[1;32m      8\u001b[0m \u001b[0;34m\u001b[0m\u001b[0m\n",
      "\u001b[0;32m/Library/Frameworks/Python.framework/Versions/3.8/lib/python3.8/site-packages/tensorflow/python/keras/engine/training.py\u001b[0m in \u001b[0;36mpredict\u001b[0;34m(self, x, batch_size, verbose, steps, callbacks, max_queue_size, workers, use_multiprocessing)\u001b[0m\n\u001b[1;32m   1596\u001b[0m                         '. Consider setting it to AutoShardPolicy.DATA.')\n\u001b[1;32m   1597\u001b[0m \u001b[0;34m\u001b[0m\u001b[0m\n\u001b[0;32m-> 1598\u001b[0;31m       data_handler = data_adapter.DataHandler(\n\u001b[0m\u001b[1;32m   1599\u001b[0m           \u001b[0mx\u001b[0m\u001b[0;34m=\u001b[0m\u001b[0mx\u001b[0m\u001b[0;34m,\u001b[0m\u001b[0;34m\u001b[0m\u001b[0;34m\u001b[0m\u001b[0m\n\u001b[1;32m   1600\u001b[0m           \u001b[0mbatch_size\u001b[0m\u001b[0;34m=\u001b[0m\u001b[0mbatch_size\u001b[0m\u001b[0;34m,\u001b[0m\u001b[0;34m\u001b[0m\u001b[0;34m\u001b[0m\u001b[0m\n",
      "\u001b[0;32m/Library/Frameworks/Python.framework/Versions/3.8/lib/python3.8/site-packages/tensorflow/python/keras/engine/data_adapter.py\u001b[0m in \u001b[0;36m__init__\u001b[0;34m(self, x, y, sample_weight, batch_size, steps_per_epoch, initial_epoch, epochs, shuffle, class_weight, max_queue_size, workers, use_multiprocessing, model, steps_per_execution)\u001b[0m\n\u001b[1;32m   1098\u001b[0m \u001b[0;34m\u001b[0m\u001b[0m\n\u001b[1;32m   1099\u001b[0m     \u001b[0madapter_cls\u001b[0m \u001b[0;34m=\u001b[0m \u001b[0mselect_data_adapter\u001b[0m\u001b[0;34m(\u001b[0m\u001b[0mx\u001b[0m\u001b[0;34m,\u001b[0m \u001b[0my\u001b[0m\u001b[0;34m)\u001b[0m\u001b[0;34m\u001b[0m\u001b[0;34m\u001b[0m\u001b[0m\n\u001b[0;32m-> 1100\u001b[0;31m     self._adapter = adapter_cls(\n\u001b[0m\u001b[1;32m   1101\u001b[0m         \u001b[0mx\u001b[0m\u001b[0;34m,\u001b[0m\u001b[0;34m\u001b[0m\u001b[0;34m\u001b[0m\u001b[0m\n\u001b[1;32m   1102\u001b[0m         \u001b[0my\u001b[0m\u001b[0;34m,\u001b[0m\u001b[0;34m\u001b[0m\u001b[0;34m\u001b[0m\u001b[0m\n",
      "\u001b[0;32m/Library/Frameworks/Python.framework/Versions/3.8/lib/python3.8/site-packages/tensorflow/python/keras/engine/data_adapter.py\u001b[0m in \u001b[0;36m__init__\u001b[0;34m(self, x, y, sample_weights, sample_weight_modes, batch_size, epochs, steps, shuffle, **kwargs)\u001b[0m\n\u001b[1;32m    353\u001b[0m     \u001b[0mindices_dataset\u001b[0m \u001b[0;34m=\u001b[0m \u001b[0mindices_dataset\u001b[0m\u001b[0;34m.\u001b[0m\u001b[0mflat_map\u001b[0m\u001b[0;34m(\u001b[0m\u001b[0mslice_batch_indices\u001b[0m\u001b[0;34m)\u001b[0m\u001b[0;34m\u001b[0m\u001b[0;34m\u001b[0m\u001b[0m\n\u001b[1;32m    354\u001b[0m \u001b[0;34m\u001b[0m\u001b[0m\n\u001b[0;32m--> 355\u001b[0;31m     \u001b[0mdataset\u001b[0m \u001b[0;34m=\u001b[0m \u001b[0mself\u001b[0m\u001b[0;34m.\u001b[0m\u001b[0mslice_inputs\u001b[0m\u001b[0;34m(\u001b[0m\u001b[0mindices_dataset\u001b[0m\u001b[0;34m,\u001b[0m \u001b[0minputs\u001b[0m\u001b[0;34m)\u001b[0m\u001b[0;34m\u001b[0m\u001b[0;34m\u001b[0m\u001b[0m\n\u001b[0m\u001b[1;32m    356\u001b[0m \u001b[0;34m\u001b[0m\u001b[0m\n\u001b[1;32m    357\u001b[0m     \u001b[0;32mif\u001b[0m \u001b[0mshuffle\u001b[0m \u001b[0;34m==\u001b[0m \u001b[0;34m\"batch\"\u001b[0m\u001b[0;34m:\u001b[0m\u001b[0;34m\u001b[0m\u001b[0;34m\u001b[0m\u001b[0m\n",
      "\u001b[0;32m/Library/Frameworks/Python.framework/Versions/3.8/lib/python3.8/site-packages/tensorflow/python/keras/engine/data_adapter.py\u001b[0m in \u001b[0;36mslice_inputs\u001b[0;34m(self, indices_dataset, inputs)\u001b[0m\n\u001b[1;32m    385\u001b[0m       \u001b[0;32mreturn\u001b[0m \u001b[0mnest\u001b[0m\u001b[0;34m.\u001b[0m\u001b[0mmap_structure\u001b[0m\u001b[0;34m(\u001b[0m\u001b[0;32mlambda\u001b[0m \u001b[0md\u001b[0m\u001b[0;34m:\u001b[0m \u001b[0marray_ops\u001b[0m\u001b[0;34m.\u001b[0m\u001b[0mgather\u001b[0m\u001b[0;34m(\u001b[0m\u001b[0md\u001b[0m\u001b[0;34m,\u001b[0m \u001b[0mi\u001b[0m\u001b[0;34m,\u001b[0m \u001b[0maxis\u001b[0m\u001b[0;34m=\u001b[0m\u001b[0;36m0\u001b[0m\u001b[0;34m)\u001b[0m\u001b[0;34m,\u001b[0m \u001b[0mdata\u001b[0m\u001b[0;34m)\u001b[0m\u001b[0;34m\u001b[0m\u001b[0;34m\u001b[0m\u001b[0m\n\u001b[1;32m    386\u001b[0m \u001b[0;34m\u001b[0m\u001b[0m\n\u001b[0;32m--> 387\u001b[0;31m     dataset = dataset.map(\n\u001b[0m\u001b[1;32m    388\u001b[0m         grab_batch, num_parallel_calls=dataset_ops.AUTOTUNE)\n\u001b[1;32m    389\u001b[0m \u001b[0;34m\u001b[0m\u001b[0m\n",
      "\u001b[0;32m/Library/Frameworks/Python.framework/Versions/3.8/lib/python3.8/site-packages/tensorflow/python/data/ops/dataset_ops.py\u001b[0m in \u001b[0;36mmap\u001b[0;34m(self, map_func, num_parallel_calls, deterministic)\u001b[0m\n\u001b[1;32m   1805\u001b[0m       \u001b[0;32mreturn\u001b[0m \u001b[0mMapDataset\u001b[0m\u001b[0;34m(\u001b[0m\u001b[0mself\u001b[0m\u001b[0;34m,\u001b[0m \u001b[0mmap_func\u001b[0m\u001b[0;34m,\u001b[0m \u001b[0mpreserve_cardinality\u001b[0m\u001b[0;34m=\u001b[0m\u001b[0;32mTrue\u001b[0m\u001b[0;34m)\u001b[0m\u001b[0;34m\u001b[0m\u001b[0;34m\u001b[0m\u001b[0m\n\u001b[1;32m   1806\u001b[0m     \u001b[0;32melse\u001b[0m\u001b[0;34m:\u001b[0m\u001b[0;34m\u001b[0m\u001b[0;34m\u001b[0m\u001b[0m\n\u001b[0;32m-> 1807\u001b[0;31m       return ParallelMapDataset(\n\u001b[0m\u001b[1;32m   1808\u001b[0m           \u001b[0mself\u001b[0m\u001b[0;34m,\u001b[0m\u001b[0;34m\u001b[0m\u001b[0;34m\u001b[0m\u001b[0m\n\u001b[1;32m   1809\u001b[0m           \u001b[0mmap_func\u001b[0m\u001b[0;34m,\u001b[0m\u001b[0;34m\u001b[0m\u001b[0;34m\u001b[0m\u001b[0m\n",
      "\u001b[0;32m/Library/Frameworks/Python.framework/Versions/3.8/lib/python3.8/site-packages/tensorflow/python/data/ops/dataset_ops.py\u001b[0m in \u001b[0;36m__init__\u001b[0;34m(self, input_dataset, map_func, num_parallel_calls, deterministic, use_inter_op_parallelism, preserve_cardinality, use_legacy_function)\u001b[0m\n\u001b[1;32m   4240\u001b[0m     \u001b[0mself\u001b[0m\u001b[0;34m.\u001b[0m\u001b[0m_input_dataset\u001b[0m \u001b[0;34m=\u001b[0m \u001b[0minput_dataset\u001b[0m\u001b[0;34m\u001b[0m\u001b[0;34m\u001b[0m\u001b[0m\n\u001b[1;32m   4241\u001b[0m     \u001b[0mself\u001b[0m\u001b[0;34m.\u001b[0m\u001b[0m_use_inter_op_parallelism\u001b[0m \u001b[0;34m=\u001b[0m \u001b[0muse_inter_op_parallelism\u001b[0m\u001b[0;34m\u001b[0m\u001b[0;34m\u001b[0m\u001b[0m\n\u001b[0;32m-> 4242\u001b[0;31m     self._map_func = StructuredFunctionWrapper(\n\u001b[0m\u001b[1;32m   4243\u001b[0m         \u001b[0mmap_func\u001b[0m\u001b[0;34m,\u001b[0m\u001b[0;34m\u001b[0m\u001b[0;34m\u001b[0m\u001b[0m\n\u001b[1;32m   4244\u001b[0m         \u001b[0mself\u001b[0m\u001b[0;34m.\u001b[0m\u001b[0m_transformation_name\u001b[0m\u001b[0;34m(\u001b[0m\u001b[0;34m)\u001b[0m\u001b[0;34m,\u001b[0m\u001b[0;34m\u001b[0m\u001b[0;34m\u001b[0m\u001b[0m\n",
      "\u001b[0;32m/Library/Frameworks/Python.framework/Versions/3.8/lib/python3.8/site-packages/tensorflow/python/data/ops/dataset_ops.py\u001b[0m in \u001b[0;36m__init__\u001b[0;34m(self, func, transformation_name, dataset, input_classes, input_shapes, input_types, input_structure, add_to_graph, use_legacy_function, defun_kwargs)\u001b[0m\n\u001b[1;32m   3523\u001b[0m       \u001b[0;32mwith\u001b[0m \u001b[0mtracking\u001b[0m\u001b[0;34m.\u001b[0m\u001b[0mresource_tracker_scope\u001b[0m\u001b[0;34m(\u001b[0m\u001b[0mresource_tracker\u001b[0m\u001b[0;34m)\u001b[0m\u001b[0;34m:\u001b[0m\u001b[0;34m\u001b[0m\u001b[0;34m\u001b[0m\u001b[0m\n\u001b[1;32m   3524\u001b[0m         \u001b[0;31m# TODO(b/141462134): Switch to using garbage collection.\u001b[0m\u001b[0;34m\u001b[0m\u001b[0;34m\u001b[0m\u001b[0;34m\u001b[0m\u001b[0m\n\u001b[0;32m-> 3525\u001b[0;31m         \u001b[0mself\u001b[0m\u001b[0;34m.\u001b[0m\u001b[0m_function\u001b[0m \u001b[0;34m=\u001b[0m \u001b[0mwrapper_fn\u001b[0m\u001b[0;34m.\u001b[0m\u001b[0mget_concrete_function\u001b[0m\u001b[0;34m(\u001b[0m\u001b[0;34m)\u001b[0m\u001b[0;34m\u001b[0m\u001b[0;34m\u001b[0m\u001b[0m\n\u001b[0m\u001b[1;32m   3526\u001b[0m         \u001b[0;32mif\u001b[0m \u001b[0madd_to_graph\u001b[0m\u001b[0;34m:\u001b[0m\u001b[0;34m\u001b[0m\u001b[0;34m\u001b[0m\u001b[0m\n\u001b[1;32m   3527\u001b[0m           \u001b[0mself\u001b[0m\u001b[0;34m.\u001b[0m\u001b[0m_function\u001b[0m\u001b[0;34m.\u001b[0m\u001b[0madd_to_graph\u001b[0m\u001b[0;34m(\u001b[0m\u001b[0mops\u001b[0m\u001b[0;34m.\u001b[0m\u001b[0mget_default_graph\u001b[0m\u001b[0;34m(\u001b[0m\u001b[0;34m)\u001b[0m\u001b[0;34m)\u001b[0m\u001b[0;34m\u001b[0m\u001b[0;34m\u001b[0m\u001b[0m\n",
      "\u001b[0;32m/Library/Frameworks/Python.framework/Versions/3.8/lib/python3.8/site-packages/tensorflow/python/eager/function.py\u001b[0m in \u001b[0;36mget_concrete_function\u001b[0;34m(self, *args, **kwargs)\u001b[0m\n\u001b[1;32m   3049\u001b[0m       \u001b[0;34m**\u001b[0m\u001b[0mkwargs\u001b[0m\u001b[0;34m:\u001b[0m \u001b[0minputs\u001b[0m \u001b[0mto\u001b[0m \u001b[0mspecialize\u001b[0m \u001b[0mon\u001b[0m\u001b[0;34m.\u001b[0m\u001b[0;34m\u001b[0m\u001b[0;34m\u001b[0m\u001b[0m\n\u001b[1;32m   3050\u001b[0m     \"\"\"\n\u001b[0;32m-> 3051\u001b[0;31m     graph_function = self._get_concrete_function_garbage_collected(\n\u001b[0m\u001b[1;32m   3052\u001b[0m         *args, **kwargs)\n\u001b[1;32m   3053\u001b[0m     \u001b[0mgraph_function\u001b[0m\u001b[0;34m.\u001b[0m\u001b[0m_garbage_collector\u001b[0m\u001b[0;34m.\u001b[0m\u001b[0mrelease\u001b[0m\u001b[0;34m(\u001b[0m\u001b[0;34m)\u001b[0m  \u001b[0;31m# pylint: disable=protected-access\u001b[0m\u001b[0;34m\u001b[0m\u001b[0;34m\u001b[0m\u001b[0m\n",
      "\u001b[0;32m/Library/Frameworks/Python.framework/Versions/3.8/lib/python3.8/site-packages/tensorflow/python/eager/function.py\u001b[0m in \u001b[0;36m_get_concrete_function_garbage_collected\u001b[0;34m(self, *args, **kwargs)\u001b[0m\n\u001b[1;32m   3017\u001b[0m       \u001b[0margs\u001b[0m\u001b[0;34m,\u001b[0m \u001b[0mkwargs\u001b[0m \u001b[0;34m=\u001b[0m \u001b[0;32mNone\u001b[0m\u001b[0;34m,\u001b[0m \u001b[0;32mNone\u001b[0m\u001b[0;34m\u001b[0m\u001b[0;34m\u001b[0m\u001b[0m\n\u001b[1;32m   3018\u001b[0m     \u001b[0;32mwith\u001b[0m \u001b[0mself\u001b[0m\u001b[0;34m.\u001b[0m\u001b[0m_lock\u001b[0m\u001b[0;34m:\u001b[0m\u001b[0;34m\u001b[0m\u001b[0;34m\u001b[0m\u001b[0m\n\u001b[0;32m-> 3019\u001b[0;31m       \u001b[0mgraph_function\u001b[0m\u001b[0;34m,\u001b[0m \u001b[0m_\u001b[0m \u001b[0;34m=\u001b[0m \u001b[0mself\u001b[0m\u001b[0;34m.\u001b[0m\u001b[0m_maybe_define_function\u001b[0m\u001b[0;34m(\u001b[0m\u001b[0margs\u001b[0m\u001b[0;34m,\u001b[0m \u001b[0mkwargs\u001b[0m\u001b[0;34m)\u001b[0m\u001b[0;34m\u001b[0m\u001b[0;34m\u001b[0m\u001b[0m\n\u001b[0m\u001b[1;32m   3020\u001b[0m       \u001b[0mseen_names\u001b[0m \u001b[0;34m=\u001b[0m \u001b[0mset\u001b[0m\u001b[0;34m(\u001b[0m\u001b[0;34m)\u001b[0m\u001b[0;34m\u001b[0m\u001b[0;34m\u001b[0m\u001b[0m\n\u001b[1;32m   3021\u001b[0m       captured = object_identity.ObjectIdentitySet(\n",
      "\u001b[0;32m/Library/Frameworks/Python.framework/Versions/3.8/lib/python3.8/site-packages/tensorflow/python/eager/function.py\u001b[0m in \u001b[0;36m_maybe_define_function\u001b[0;34m(self, args, kwargs)\u001b[0m\n\u001b[1;32m   3359\u001b[0m \u001b[0;34m\u001b[0m\u001b[0m\n\u001b[1;32m   3360\u001b[0m           \u001b[0mself\u001b[0m\u001b[0;34m.\u001b[0m\u001b[0m_function_cache\u001b[0m\u001b[0;34m.\u001b[0m\u001b[0mmissed\u001b[0m\u001b[0;34m.\u001b[0m\u001b[0madd\u001b[0m\u001b[0;34m(\u001b[0m\u001b[0mcall_context_key\u001b[0m\u001b[0;34m)\u001b[0m\u001b[0;34m\u001b[0m\u001b[0;34m\u001b[0m\u001b[0m\n\u001b[0;32m-> 3361\u001b[0;31m           \u001b[0mgraph_function\u001b[0m \u001b[0;34m=\u001b[0m \u001b[0mself\u001b[0m\u001b[0;34m.\u001b[0m\u001b[0m_create_graph_function\u001b[0m\u001b[0;34m(\u001b[0m\u001b[0margs\u001b[0m\u001b[0;34m,\u001b[0m \u001b[0mkwargs\u001b[0m\u001b[0;34m)\u001b[0m\u001b[0;34m\u001b[0m\u001b[0;34m\u001b[0m\u001b[0m\n\u001b[0m\u001b[1;32m   3362\u001b[0m           \u001b[0mself\u001b[0m\u001b[0;34m.\u001b[0m\u001b[0m_function_cache\u001b[0m\u001b[0;34m.\u001b[0m\u001b[0mprimary\u001b[0m\u001b[0;34m[\u001b[0m\u001b[0mcache_key\u001b[0m\u001b[0;34m]\u001b[0m \u001b[0;34m=\u001b[0m \u001b[0mgraph_function\u001b[0m\u001b[0;34m\u001b[0m\u001b[0;34m\u001b[0m\u001b[0m\n\u001b[1;32m   3363\u001b[0m \u001b[0;34m\u001b[0m\u001b[0m\n",
      "\u001b[0;32m/Library/Frameworks/Python.framework/Versions/3.8/lib/python3.8/site-packages/tensorflow/python/eager/function.py\u001b[0m in \u001b[0;36m_create_graph_function\u001b[0;34m(self, args, kwargs, override_flat_arg_shapes)\u001b[0m\n\u001b[1;32m   3194\u001b[0m     \u001b[0marg_names\u001b[0m \u001b[0;34m=\u001b[0m \u001b[0mbase_arg_names\u001b[0m \u001b[0;34m+\u001b[0m \u001b[0mmissing_arg_names\u001b[0m\u001b[0;34m\u001b[0m\u001b[0;34m\u001b[0m\u001b[0m\n\u001b[1;32m   3195\u001b[0m     graph_function = ConcreteFunction(\n\u001b[0;32m-> 3196\u001b[0;31m         func_graph_module.func_graph_from_py_func(\n\u001b[0m\u001b[1;32m   3197\u001b[0m             \u001b[0mself\u001b[0m\u001b[0;34m.\u001b[0m\u001b[0m_name\u001b[0m\u001b[0;34m,\u001b[0m\u001b[0;34m\u001b[0m\u001b[0;34m\u001b[0m\u001b[0m\n\u001b[1;32m   3198\u001b[0m             \u001b[0mself\u001b[0m\u001b[0;34m.\u001b[0m\u001b[0m_python_function\u001b[0m\u001b[0;34m,\u001b[0m\u001b[0;34m\u001b[0m\u001b[0;34m\u001b[0m\u001b[0m\n",
      "\u001b[0;32m/Library/Frameworks/Python.framework/Versions/3.8/lib/python3.8/site-packages/tensorflow/python/framework/func_graph.py\u001b[0m in \u001b[0;36mfunc_graph_from_py_func\u001b[0;34m(name, python_func, args, kwargs, signature, func_graph, autograph, autograph_options, add_control_dependencies, arg_names, op_return_value, collections, capture_by_value, override_flat_arg_shapes)\u001b[0m\n\u001b[1;32m    803\u001b[0m \u001b[0;34m\u001b[0m\u001b[0m\n\u001b[1;32m    804\u001b[0m \u001b[0;34m\u001b[0m\u001b[0m\n\u001b[0;32m--> 805\u001b[0;31m def func_graph_from_py_func(name,\n\u001b[0m\u001b[1;32m    806\u001b[0m                             \u001b[0mpython_func\u001b[0m\u001b[0;34m,\u001b[0m\u001b[0;34m\u001b[0m\u001b[0;34m\u001b[0m\u001b[0m\n\u001b[1;32m    807\u001b[0m                             \u001b[0margs\u001b[0m\u001b[0;34m,\u001b[0m\u001b[0;34m\u001b[0m\u001b[0;34m\u001b[0m\u001b[0m\n",
      "\u001b[0;31mKeyboardInterrupt\u001b[0m: "
     ]
    }
   ],
   "source": [
    "i=0\n",
    "j=0\n",
    "sentence=\"\"\n",
    "for c in range(24186):\n",
    "    sentence=sentence+\" \"+wordlist[j]\n",
    "    currentvalue=model.predict(check(sentence))#this is the value of the current sentence prediction\n",
    "\n",
    "\n",
    "\n",
    "    nextsentencevalue=model.predict(check(sentence+\" \"+wordlist[j+1]))#this is what the next sentence \n",
    "\n",
    "    reversevalue=model.predict(check(wordlist[j]+\" \"+wordlist[j+1]))#this should be low\n",
    "\n",
    "\n",
    "    if(nextsentencevalue>currentvalue)&(reversevalue<currentvalue):#max the greatest and min the lowest=sentence\n",
    "        print(sentence+\".\")\n",
    "        i=c\n",
    "        sentence=\"\"\n",
    "        j=i+1\n",
    "    else:\n",
    "        j=j+1\n",
    "\n",
    "\n",
    "\n",
    "\n",
    "\n",
    "\n",
    "\n",
    "\n",
    "\n",
    "\n",
    "\n",
    "\n",
    "\n"
   ]
  },
  {
   "cell_type": "code",
   "execution_count": null,
   "metadata": {},
   "outputs": [],
   "source": []
  }
 ]
}